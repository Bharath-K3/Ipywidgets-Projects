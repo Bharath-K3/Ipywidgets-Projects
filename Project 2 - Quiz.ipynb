{
 "cells": [
  {
   "cell_type": "code",
   "execution_count": 1,
   "metadata": {},
   "outputs": [],
   "source": [
    "# Importing the ipywidgets library and IPython display module\n",
    "\n",
    "import ipywidgets as widgets\n",
    "from IPython.display import display\n",
    "import time"
   ]
  },
  {
   "cell_type": "code",
   "execution_count": 2,
   "metadata": {},
   "outputs": [],
   "source": [
    "# Creating the function for storing the Questions and Answers for the mini-quiz\n",
    "\n",
    "def answer_check(question, question_input):\n",
    "    if question_input == \"Question-1\":\n",
    "        if question.value == \"7\":\n",
    "            print(\"Correct Answer!\")\n",
    "            \n",
    "        else:\n",
    "            print(\"Incorrect Answer!\")\n",
    "            \n",
    "    elif question_input == \"Question-2\":\n",
    "        if question.value == \"366\":\n",
    "            print(\"Correct Answer!\")\n",
    "            \n",
    "        else:\n",
    "            print(\"Incorrect Answer!\")\n",
    "\n",
    "def mini_quiz(question):\n",
    "    if question == 'Question-1':\n",
    "#         q1 = widgets.IntText(value=0, description='How many continents are there in the world?')\n",
    "        q = widgets.RadioButtons(options=['4', '5', '6', '7'], description='How many continents are there in the world?:')\n",
    "        display(q)\n",
    "        \n",
    "    elif question == 'Question-2':\n",
    "        q = widgets.RadioButtons(options=['364', '365', '366', '367'], description='How many days are there in a leap year?:')\n",
    "        display(q)\n",
    "        \n",
    "    return q"
   ]
  },
  {
   "cell_type": "code",
   "execution_count": 3,
   "metadata": {},
   "outputs": [
    {
     "data": {
      "application/vnd.jupyter.widget-view+json": {
       "model_id": "8ea6d7514a6542fcb66241191db8d84b",
       "version_major": 2,
       "version_minor": 0
      },
      "text/plain": [
       "ToggleButtons(description='Quiz:', options=('Question-1', 'Question-2'), value='Question-1')"
      ]
     },
     "metadata": {},
     "output_type": "display_data"
    }
   ],
   "source": [
    "question = widgets.ToggleButtons(options=['Question-1', 'Question-2'], description='Quiz:')\n",
    "display(question)"
   ]
  },
  {
   "cell_type": "code",
   "execution_count": 4,
   "metadata": {},
   "outputs": [
    {
     "data": {
      "text/plain": [
       "'Question-1'"
      ]
     },
     "execution_count": 4,
     "metadata": {},
     "output_type": "execute_result"
    }
   ],
   "source": [
    "question_input = question.value\n",
    "question_input"
   ]
  },
  {
   "cell_type": "code",
   "execution_count": 5,
   "metadata": {},
   "outputs": [
    {
     "data": {
      "application/vnd.jupyter.widget-view+json": {
       "model_id": "0e4382e1ddc44c8091c793bef3ca9373",
       "version_major": 2,
       "version_minor": 0
      },
      "text/plain": [
       "RadioButtons(description='How many continents are there in the world?:', options=('4', '5', '6', '7'), value='…"
      ]
     },
     "metadata": {},
     "output_type": "display_data"
    }
   ],
   "source": [
    "question = mini_quiz(question_input)"
   ]
  },
  {
   "cell_type": "code",
   "execution_count": 7,
   "metadata": {},
   "outputs": [
    {
     "name": "stdout",
     "output_type": "stream",
     "text": [
      "Correct Answer!\n"
     ]
    }
   ],
   "source": [
    "answer_check(question, question_input)"
   ]
  },
  {
   "cell_type": "code",
   "execution_count": null,
   "metadata": {},
   "outputs": [],
   "source": []
  }
 ],
 "metadata": {
  "kernelspec": {
   "display_name": "Python 3",
   "language": "python",
   "name": "python3"
  },
  "language_info": {
   "codemirror_mode": {
    "name": "ipython",
    "version": 3
   },
   "file_extension": ".py",
   "mimetype": "text/x-python",
   "name": "python",
   "nbconvert_exporter": "python",
   "pygments_lexer": "ipython3",
   "version": "3.7.7"
  }
 },
 "nbformat": 4,
 "nbformat_minor": 2
}
